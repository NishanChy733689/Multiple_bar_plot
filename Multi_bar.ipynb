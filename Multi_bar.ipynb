{
  "nbformat": 4,
  "nbformat_minor": 0,
  "metadata": {
    "colab": {
      "provenance": [],
      "gpuType": "T4",
      "authorship_tag": "ABX9TyMVJdzK7BvcmNXPhWPYei2I",
      "include_colab_link": true
    },
    "kernelspec": {
      "name": "python3",
      "display_name": "Python 3"
    },
    "language_info": {
      "name": "python"
    },
    "accelerator": "GPU"
  },
  "cells": [
    {
      "cell_type": "markdown",
      "metadata": {
        "id": "view-in-github",
        "colab_type": "text"
      },
      "source": [
        "<a href=\"https://colab.research.google.com/github/NishanChy733689/Multiple_bar_plot/blob/main/Multi_bar.ipynb\" target=\"_parent\"><img src=\"https://colab.research.google.com/assets/colab-badge.svg\" alt=\"Open In Colab\"/></a>"
      ]
    },
    {
      "cell_type": "code",
      "execution_count": 1,
      "metadata": {
        "id": "QaaODt883EUA"
      },
      "outputs": [],
      "source": [
        "import numpy as np\n",
        "import matplotlib.pyplot as plt\n",
        "import pandas as pd\n",
        "import seaborn as sns"
      ]
    },
    {
      "cell_type": "code",
      "source": [
        "col_width=0.3\n",
        "It=[12,30,1,8,22]\n",
        "Ece=[28,6,16,5,10]\n",
        "Cse=[29,3,24,25,17]\n",
        "years=['2015','2016','2017','2018','20119']\n",
        "plt.figure(figsize=(20,7))"
      ],
      "metadata": {
        "colab": {
          "base_uri": "https://localhost:8080/",
          "height": 52
        },
        "id": "pdI5U-_O3yI0",
        "outputId": "771646e2-e800-4aa6-ffae-145c23a0f6c8"
      },
      "execution_count": 5,
      "outputs": [
        {
          "output_type": "execute_result",
          "data": {
            "text/plain": [
              "<Figure size 2000x700 with 0 Axes>"
            ]
          },
          "metadata": {},
          "execution_count": 5
        },
        {
          "output_type": "display_data",
          "data": {
            "text/plain": [
              "<Figure size 2000x700 with 0 Axes>"
            ]
          },
          "metadata": {}
        }
      ]
    },
    {
      "cell_type": "code",
      "source": [
        "it_x=np.arange(len(It))\n",
        "ece_x=[i+col_width for i in it_x ]\n",
        "cse_x=[i+col_width for i in ece_x ]"
      ],
      "metadata": {
        "id": "a9luI7M25Yj-"
      },
      "execution_count": 6,
      "outputs": []
    },
    {
      "cell_type": "code",
      "source": [
        "plt.bar(x=it_x,height=It,color='#00ffae',width=col_width,label='IT')\n",
        "plt.bar(x=ece_x,height=Ece,color='#00c8ff',width=col_width,label=\"ECE\")\n",
        "plt.bar(x=cse_x,height=Cse,color='#a200ff',width=col_width,label='CSE')\n",
        "plt.legend()\n",
        "plt.xticks([r+col_width for r in range(len(It))],years)\n",
        "plt.xlabel(\"Sectors\",fontweight='bold',fontsize=20)\n",
        "plt.ylabel(\"Students enrolled\")\n",
        "plt.title(\"Study Point It,ECE,CSE course data\")\n",
        "plt.figure(figsize=(200,7))"
      ],
      "metadata": {
        "colab": {
          "base_uri": "https://localhost:8080/",
          "height": 521
        },
        "id": "PkyIw1_P6VnK",
        "outputId": "b5d760ed-84e1-4498-e3a2-fe8a953a13ab"
      },
      "execution_count": 21,
      "outputs": [
        {
          "output_type": "execute_result",
          "data": {
            "text/plain": [
              "<Figure size 20000x700 with 0 Axes>"
            ]
          },
          "metadata": {},
          "execution_count": 21
        },
        {
          "output_type": "display_data",
          "data": {
            "text/plain": [
              "<Figure size 640x480 with 1 Axes>"
            ],
            "image/png": "[encoded data removed]"
          },
          "metadata": {}
        },
        {
          "output_type": "display_data",
          "data": {
            "text/plain": [
              "<Figure size 20000x700 with 0 Axes>"
            ]
          },
          "metadata": {}
        }
      ]
    },
    {
      "cell_type": "code",
      "source": [
        "plt.show()"
      ],
      "metadata": {
        "id": "jjWS9IL_8jd7"
      },
      "execution_count": 13,
      "outputs": []
    }
  ]
}